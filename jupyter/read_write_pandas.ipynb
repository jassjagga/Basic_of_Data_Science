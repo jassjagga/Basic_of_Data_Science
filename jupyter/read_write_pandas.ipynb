{
 "cells": [
  {
   "cell_type": "markdown",
   "id": "862c56f3",
   "metadata": {},
   "source": [
    "## Reading / Wrting CSV, Excel Files In Notebook"
   ]
  },
  {
   "cell_type": "markdown",
   "id": "9570f982",
   "metadata": {},
   "source": [
    "**Topics:**\n",
    "1. Read CSV\n",
    "2. Write CSV\n",
    "3. Read Excel\n",
    "4. Write Excel\n"
   ]
  },
  {
   "cell_type": "markdown",
   "id": "07724bcf",
   "metadata": {},
   "source": [
    "#### 1. Read CSV"
   ]
  },
  {
   "cell_type": "code",
   "execution_count": 29,
   "id": "5bcee39e",
   "metadata": {},
   "outputs": [
    {
     "data": {
      "text/html": [
       "<div>\n",
       "<style scoped>\n",
       "    .dataframe tbody tr th:only-of-type {\n",
       "        vertical-align: middle;\n",
       "    }\n",
       "\n",
       "    .dataframe tbody tr th {\n",
       "        vertical-align: top;\n",
       "    }\n",
       "\n",
       "    .dataframe thead th {\n",
       "        text-align: right;\n",
       "    }\n",
       "</style>\n",
       "<table border=\"1\" class=\"dataframe\">\n",
       "  <thead>\n",
       "    <tr style=\"text-align: right;\">\n",
       "      <th></th>\n",
       "      <th>ticker</th>\n",
       "      <th>eps</th>\n",
       "      <th>revenue</th>\n",
       "      <th>price</th>\n",
       "      <th>people</th>\n",
       "    </tr>\n",
       "  </thead>\n",
       "  <tbody>\n",
       "    <tr>\n",
       "      <th>0</th>\n",
       "      <td>GOOGL</td>\n",
       "      <td>27.82</td>\n",
       "      <td>87</td>\n",
       "      <td>845</td>\n",
       "      <td>larry page</td>\n",
       "    </tr>\n",
       "    <tr>\n",
       "      <th>1</th>\n",
       "      <td>WMT</td>\n",
       "      <td>4.61</td>\n",
       "      <td>484</td>\n",
       "      <td>65</td>\n",
       "      <td>n.a</td>\n",
       "    </tr>\n",
       "    <tr>\n",
       "      <th>2</th>\n",
       "      <td>MSFT</td>\n",
       "      <td>-1</td>\n",
       "      <td>85</td>\n",
       "      <td>64</td>\n",
       "      <td>bill gates</td>\n",
       "    </tr>\n",
       "    <tr>\n",
       "      <th>3</th>\n",
       "      <td>RIL</td>\n",
       "      <td>not available</td>\n",
       "      <td>50</td>\n",
       "      <td>1023</td>\n",
       "      <td>mukesh ambani</td>\n",
       "    </tr>\n",
       "    <tr>\n",
       "      <th>4</th>\n",
       "      <td>TATA</td>\n",
       "      <td>5.6</td>\n",
       "      <td>-1</td>\n",
       "      <td>n.a</td>\n",
       "      <td>Ratan Tata</td>\n",
       "    </tr>\n",
       "  </tbody>\n",
       "</table>\n",
       "</div>"
      ],
      "text/plain": [
       "  ticker            eps  revenue price         people\n",
       "0  GOOGL          27.82       87   845     larry page\n",
       "1    WMT           4.61      484    65            n.a\n",
       "2   MSFT             -1       85    64     bill gates\n",
       "3   RIL   not available       50  1023  mukesh ambani\n",
       "4   TATA            5.6       -1   n.a     Ratan Tata"
      ]
     },
     "execution_count": 29,
     "metadata": {},
     "output_type": "execute_result"
    }
   ],
   "source": [
    "import pandas as pd\n",
    "csv_df=pd.read_csv(\"stockPrice.csv\")\n",
    "csv_df.head()"
   ]
  },
  {
   "cell_type": "markdown",
   "id": "8ee283dc",
   "metadata": {},
   "source": [
    "###### In case you have extra row on the table and u want to skip that then use*\n",
    "\n",
    " example  \n",
    " 1. csv_df=pd.read_csv(\"stockPrice.csv\",skiprow=1)\n",
    " \n",
    " or\n",
    " 2. csv_df=pd.read_csv(\"stockPrice.csv\",header=1)\n",
    "  \n",
    " ###### So if you don't have header to file then we can use this \n",
    " \n",
    " example  \n",
    " 3. csv_df=pd.read_csv(\"stockPrice.csv\",header=None)\n",
    " \n",
    " if you want to gave specific name instead of numbers:-\n",
    " 4. csv_df=pd.read_csv(\"stockPrice.csv\",header=None, names=[\"ticker\",\"eps\",\"revenue\",\"price\",\"people\" ])\n",
    " \n",
    "###### if you have very big file and want to read only few lines of that file then \n",
    " \n",
    " example \n",
    " 5. csv_df=pd.read_csv(\"stockPrice.csv\", nrows=3)\n",
    " \n",
    " ###### if you want to replace na or not available file with NaN \n",
    " example\n",
    " 6. csv_df=pd.read_csv(\"stockPrice.csv\", na_values=[\"not available\",\"n.a\"])"
   ]
  },
  {
   "cell_type": "code",
   "execution_count": 10,
   "id": "a3259854",
   "metadata": {},
   "outputs": [
    {
     "data": {
      "text/html": [
       "<div>\n",
       "<style scoped>\n",
       "    .dataframe tbody tr th:only-of-type {\n",
       "        vertical-align: middle;\n",
       "    }\n",
       "\n",
       "    .dataframe tbody tr th {\n",
       "        vertical-align: top;\n",
       "    }\n",
       "\n",
       "    .dataframe thead th {\n",
       "        text-align: right;\n",
       "    }\n",
       "</style>\n",
       "<table border=\"1\" class=\"dataframe\">\n",
       "  <thead>\n",
       "    <tr style=\"text-align: right;\">\n",
       "      <th></th>\n",
       "      <th>ticker</th>\n",
       "      <th>eps</th>\n",
       "      <th>revenue</th>\n",
       "      <th>price</th>\n",
       "      <th>people</th>\n",
       "    </tr>\n",
       "  </thead>\n",
       "  <tbody>\n",
       "    <tr>\n",
       "      <th>0</th>\n",
       "      <td>GOOGL</td>\n",
       "      <td>27.82</td>\n",
       "      <td>87</td>\n",
       "      <td>845.0</td>\n",
       "      <td>larry page</td>\n",
       "    </tr>\n",
       "    <tr>\n",
       "      <th>1</th>\n",
       "      <td>WMT</td>\n",
       "      <td>4.61</td>\n",
       "      <td>484</td>\n",
       "      <td>65.0</td>\n",
       "      <td>NaN</td>\n",
       "    </tr>\n",
       "    <tr>\n",
       "      <th>2</th>\n",
       "      <td>MSFT</td>\n",
       "      <td>-1.00</td>\n",
       "      <td>85</td>\n",
       "      <td>64.0</td>\n",
       "      <td>bill gates</td>\n",
       "    </tr>\n",
       "    <tr>\n",
       "      <th>3</th>\n",
       "      <td>RIL</td>\n",
       "      <td>NaN</td>\n",
       "      <td>50</td>\n",
       "      <td>1023.0</td>\n",
       "      <td>mukesh ambani</td>\n",
       "    </tr>\n",
       "    <tr>\n",
       "      <th>4</th>\n",
       "      <td>TATA</td>\n",
       "      <td>5.60</td>\n",
       "      <td>-1</td>\n",
       "      <td>NaN</td>\n",
       "      <td>Ratan Tata</td>\n",
       "    </tr>\n",
       "  </tbody>\n",
       "</table>\n",
       "</div>"
      ],
      "text/plain": [
       "  ticker    eps  revenue   price         people\n",
       "0  GOOGL  27.82       87   845.0     larry page\n",
       "1    WMT   4.61      484    65.0            NaN\n",
       "2   MSFT  -1.00       85    64.0     bill gates\n",
       "3   RIL     NaN       50  1023.0  mukesh ambani\n",
       "4   TATA   5.60       -1     NaN     Ratan Tata"
      ]
     },
     "execution_count": 10,
     "metadata": {},
     "output_type": "execute_result"
    }
   ],
   "source": [
    "csv_df=pd.read_csv(\"stockPrice.csv\", na_values=[\"not available\",\"n.a\"])\n",
    "csv_df"
   ]
  },
  {
   "cell_type": "markdown",
   "id": "338b95c2",
   "metadata": {},
   "source": [
    "In case here the eps could be -1 but revenue can't be negtive so we cant gave -1 with not available or na becase it would chage the -1 in eps too so other option is listing "
   ]
  },
  {
   "cell_type": "code",
   "execution_count": 12,
   "id": "15f2d7e7",
   "metadata": {},
   "outputs": [
    {
     "data": {
      "text/html": [
       "<div>\n",
       "<style scoped>\n",
       "    .dataframe tbody tr th:only-of-type {\n",
       "        vertical-align: middle;\n",
       "    }\n",
       "\n",
       "    .dataframe tbody tr th {\n",
       "        vertical-align: top;\n",
       "    }\n",
       "\n",
       "    .dataframe thead th {\n",
       "        text-align: right;\n",
       "    }\n",
       "</style>\n",
       "<table border=\"1\" class=\"dataframe\">\n",
       "  <thead>\n",
       "    <tr style=\"text-align: right;\">\n",
       "      <th></th>\n",
       "      <th>ticker</th>\n",
       "      <th>eps</th>\n",
       "      <th>revenue</th>\n",
       "      <th>price</th>\n",
       "      <th>people</th>\n",
       "    </tr>\n",
       "  </thead>\n",
       "  <tbody>\n",
       "    <tr>\n",
       "      <th>0</th>\n",
       "      <td>GOOGL</td>\n",
       "      <td>27.82</td>\n",
       "      <td>87.0</td>\n",
       "      <td>845</td>\n",
       "      <td>larry page</td>\n",
       "    </tr>\n",
       "    <tr>\n",
       "      <th>1</th>\n",
       "      <td>WMT</td>\n",
       "      <td>4.61</td>\n",
       "      <td>484.0</td>\n",
       "      <td>65</td>\n",
       "      <td>NaN</td>\n",
       "    </tr>\n",
       "    <tr>\n",
       "      <th>2</th>\n",
       "      <td>MSFT</td>\n",
       "      <td>-1.00</td>\n",
       "      <td>85.0</td>\n",
       "      <td>64</td>\n",
       "      <td>bill gates</td>\n",
       "    </tr>\n",
       "    <tr>\n",
       "      <th>3</th>\n",
       "      <td>RIL</td>\n",
       "      <td>NaN</td>\n",
       "      <td>50.0</td>\n",
       "      <td>1023</td>\n",
       "      <td>mukesh ambani</td>\n",
       "    </tr>\n",
       "    <tr>\n",
       "      <th>4</th>\n",
       "      <td>TATA</td>\n",
       "      <td>5.60</td>\n",
       "      <td>NaN</td>\n",
       "      <td>n.a</td>\n",
       "      <td>Ratan Tata</td>\n",
       "    </tr>\n",
       "  </tbody>\n",
       "</table>\n",
       "</div>"
      ],
      "text/plain": [
       "  ticker    eps  revenue price         people\n",
       "0  GOOGL  27.82     87.0   845     larry page\n",
       "1    WMT   4.61    484.0    65            NaN\n",
       "2   MSFT  -1.00     85.0    64     bill gates\n",
       "3   RIL     NaN     50.0  1023  mukesh ambani\n",
       "4   TATA   5.60      NaN   n.a     Ratan Tata"
      ]
     },
     "execution_count": 12,
     "metadata": {},
     "output_type": "execute_result"
    }
   ],
   "source": [
    "csv_df=pd.read_csv(\"stockPrice.csv\", na_values={\n",
    "    'eps':[\"not available\",\"n.a\"],\n",
    "    'revenue':[\"not available\",\"n.a\",-1],\n",
    "    'people':[\"not available\",\"n.a\"]\n",
    "})\n",
    "csv_df"
   ]
  },
  {
   "cell_type": "markdown",
   "id": "4cd4664d",
   "metadata": {},
   "source": [
    "#### 2.Write back to CVS file "
   ]
  },
  {
   "cell_type": "code",
   "execution_count": 14,
   "id": "a07f9ea2",
   "metadata": {},
   "outputs": [],
   "source": [
    "csv_df.to_csv(\"edited_stockPrice.csv\", index=False)"
   ]
  },
  {
   "cell_type": "code",
   "execution_count": 16,
   "id": "102d1d5a",
   "metadata": {},
   "outputs": [],
   "source": [
    "csv_df.to_csv(\"edited_stockPrice1.csv\",columns=['ticker','eps']) #to get specific columns in your file only"
   ]
  },
  {
   "cell_type": "code",
   "execution_count": 17,
   "id": "69b6c2b7",
   "metadata": {},
   "outputs": [],
   "source": [
    "csv_df.to_csv(\"edited_stockPrice2.csv\", header=False) #to remove the file header and save it "
   ]
  },
  {
   "cell_type": "markdown",
   "id": "acc4c2e6",
   "metadata": {},
   "source": [
    "#### 3.  Reading Excel File "
   ]
  },
  {
   "cell_type": "code",
   "execution_count": 22,
   "id": "0d24deec",
   "metadata": {},
   "outputs": [
    {
     "data": {
      "text/html": [
       "<div>\n",
       "<style scoped>\n",
       "    .dataframe tbody tr th:only-of-type {\n",
       "        vertical-align: middle;\n",
       "    }\n",
       "\n",
       "    .dataframe tbody tr th {\n",
       "        vertical-align: top;\n",
       "    }\n",
       "\n",
       "    .dataframe thead th {\n",
       "        text-align: right;\n",
       "    }\n",
       "</style>\n",
       "<table border=\"1\" class=\"dataframe\">\n",
       "  <thead>\n",
       "    <tr style=\"text-align: right;\">\n",
       "      <th></th>\n",
       "      <th>ticker</th>\n",
       "      <th>eps</th>\n",
       "      <th>revenue</th>\n",
       "      <th>price</th>\n",
       "      <th>people</th>\n",
       "    </tr>\n",
       "  </thead>\n",
       "  <tbody>\n",
       "    <tr>\n",
       "      <th>0</th>\n",
       "      <td>GOOGL</td>\n",
       "      <td>27.82</td>\n",
       "      <td>87</td>\n",
       "      <td>845</td>\n",
       "      <td>larry page</td>\n",
       "    </tr>\n",
       "    <tr>\n",
       "      <th>1</th>\n",
       "      <td>WMT</td>\n",
       "      <td>4.61</td>\n",
       "      <td>484</td>\n",
       "      <td>65</td>\n",
       "      <td>n.a</td>\n",
       "    </tr>\n",
       "    <tr>\n",
       "      <th>2</th>\n",
       "      <td>MSFT</td>\n",
       "      <td>-1</td>\n",
       "      <td>85</td>\n",
       "      <td>64</td>\n",
       "      <td>bill gates</td>\n",
       "    </tr>\n",
       "    <tr>\n",
       "      <th>3</th>\n",
       "      <td>RIL</td>\n",
       "      <td>not available</td>\n",
       "      <td>50</td>\n",
       "      <td>1023</td>\n",
       "      <td>mukesh ambani</td>\n",
       "    </tr>\n",
       "  </tbody>\n",
       "</table>\n",
       "</div>"
      ],
      "text/plain": [
       "  ticker            eps  revenue price         people\n",
       "0  GOOGL          27.82       87   845     larry page\n",
       "1    WMT           4.61      484    65            n.a\n",
       "2   MSFT             -1       85    64     bill gates\n",
       "3   RIL   not available       50  1023  mukesh ambani"
      ]
     },
     "execution_count": 22,
     "metadata": {},
     "output_type": "execute_result"
    }
   ],
   "source": [
    "xlx_df = pd.read_excel(\"stockPrice.xlsx\",\"Sheet1\")\n",
    "xlx_df.head(4)"
   ]
  },
  {
   "cell_type": "markdown",
   "id": "a3098efb",
   "metadata": {},
   "source": [
    "Here for example you want to insert the name of the people instead of n.a simple example"
   ]
  },
  {
   "cell_type": "code",
   "execution_count": 27,
   "id": "3c699c35",
   "metadata": {},
   "outputs": [
    {
     "data": {
      "text/html": [
       "<div>\n",
       "<style scoped>\n",
       "    .dataframe tbody tr th:only-of-type {\n",
       "        vertical-align: middle;\n",
       "    }\n",
       "\n",
       "    .dataframe tbody tr th {\n",
       "        vertical-align: top;\n",
       "    }\n",
       "\n",
       "    .dataframe thead th {\n",
       "        text-align: right;\n",
       "    }\n",
       "</style>\n",
       "<table border=\"1\" class=\"dataframe\">\n",
       "  <thead>\n",
       "    <tr style=\"text-align: right;\">\n",
       "      <th></th>\n",
       "      <th>ticker</th>\n",
       "      <th>eps</th>\n",
       "      <th>revenue</th>\n",
       "      <th>price</th>\n",
       "      <th>people</th>\n",
       "    </tr>\n",
       "  </thead>\n",
       "  <tbody>\n",
       "    <tr>\n",
       "      <th>0</th>\n",
       "      <td>GOOGL</td>\n",
       "      <td>27.82</td>\n",
       "      <td>87</td>\n",
       "      <td>845</td>\n",
       "      <td>larry page</td>\n",
       "    </tr>\n",
       "    <tr>\n",
       "      <th>1</th>\n",
       "      <td>WMT</td>\n",
       "      <td>4.61</td>\n",
       "      <td>484</td>\n",
       "      <td>65</td>\n",
       "      <td>sam walton</td>\n",
       "    </tr>\n",
       "    <tr>\n",
       "      <th>2</th>\n",
       "      <td>MSFT</td>\n",
       "      <td>-1.00</td>\n",
       "      <td>85</td>\n",
       "      <td>64</td>\n",
       "      <td>bill gates</td>\n",
       "    </tr>\n",
       "    <tr>\n",
       "      <th>3</th>\n",
       "      <td>RIL</td>\n",
       "      <td>NaN</td>\n",
       "      <td>50</td>\n",
       "      <td>1023</td>\n",
       "      <td>mukesh ambani</td>\n",
       "    </tr>\n",
       "  </tbody>\n",
       "</table>\n",
       "</div>"
      ],
      "text/plain": [
       "  ticker    eps  revenue price         people\n",
       "0  GOOGL  27.82       87   845     larry page\n",
       "1    WMT   4.61      484    65     sam walton\n",
       "2   MSFT  -1.00       85    64     bill gates\n",
       "3   RIL     NaN       50  1023  mukesh ambani"
      ]
     },
     "execution_count": 27,
     "metadata": {},
     "output_type": "execute_result"
    }
   ],
   "source": [
    "def convert_people_cell(cell): #converter funtion to chage the name\n",
    "    if cell==\"n.a\":\n",
    "        return 'sam walton'\n",
    "    return cell\n",
    "\n",
    "def convert_eps_cell(cell):  #converter functon to change the eps\n",
    "    if cell==\"not available\":\n",
    "        return None\n",
    "    return cell\n",
    "\n",
    "xlx_df = pd.read_excel(\"stockPrice.xlsx\",\"Sheet1\", converters = {\n",
    "    'people':convert_people_cell,\n",
    "    'eps': convert_eps_cell\n",
    "})\n",
    "xlx_df.head(4)"
   ]
  },
  {
   "cell_type": "markdown",
   "id": "137abf18",
   "metadata": {},
   "source": [
    "#### 4. Write back to Execl file "
   ]
  },
  {
   "cell_type": "code",
   "execution_count": 31,
   "id": "3d73717b",
   "metadata": {},
   "outputs": [],
   "source": [
    "xlx_df.to_excel(\"newstockPrice.xlsx\",sheet_name=\"stockPrice\")"
   ]
  },
  {
   "cell_type": "code",
   "execution_count": 32,
   "id": "0fdd5ad8",
   "metadata": {},
   "outputs": [],
   "source": [
    "xlx_df.to_excel(\"newstockPrice.xlsx\",sheet_name=\"stockPrice\",startrow=1, startcol=2)"
   ]
  },
  {
   "cell_type": "code",
   "execution_count": 36,
   "id": "34dd8fef",
   "metadata": {},
   "outputs": [],
   "source": [
    "xlx_df.to_excel(\"newstockPrice.xlsx\",sheet_name=\"stockPrice\",startrow=1, startcol=2, index=False)"
   ]
  },
  {
   "cell_type": "markdown",
   "id": "974d31d2",
   "metadata": {},
   "source": [
    "**IF WE HAVE TWO DATAFRAMES THAT WE WANT TO WRITE IN TWO SHEETS OF EXCEL FILE**"
   ]
  },
  {
   "cell_type": "code",
   "execution_count": 46,
   "id": "6e4d7293",
   "metadata": {},
   "outputs": [],
   "source": [
    "#Two data frame one is weatherdata other is stock data\n",
    "weather_data=pd.DataFrame({\n",
    "    'day':['1/1/2022/','1/2/2022','1/3/2022','1/4/2022'],\n",
    "    'temp': [8,9,10,7],\n",
    "    'windspeed':[6,7,8,5],\n",
    "    'event': ['rain','snow','rain','sunny']\n",
    "})\n",
    "\n",
    "xlx_df=pd.read_excel(\"newstockPrice.xlsx\",\"stockPrice\")"
   ]
  },
  {
   "cell_type": "code",
   "execution_count": 47,
   "id": "98bbfbb2",
   "metadata": {},
   "outputs": [],
   "source": [
    "#with ExcelWriter we can write in  a stock file \n",
    "with pd.ExcelWriter('stocks_weather.xlsx') as writer:\n",
    "    weather_data.to_excel(writer,sheet_name=\"weather\")\n",
    "    xlx_df.to_excel(writer,sheet_name=\"stocks\")"
   ]
  },
  {
   "cell_type": "code",
   "execution_count": null,
   "id": "90948486",
   "metadata": {},
   "outputs": [],
   "source": []
  }
 ],
 "metadata": {
  "kernelspec": {
   "display_name": "Python 3 (ipykernel)",
   "language": "python",
   "name": "python3"
  },
  "language_info": {
   "codemirror_mode": {
    "name": "ipython",
    "version": 3
   },
   "file_extension": ".py",
   "mimetype": "text/x-python",
   "name": "python",
   "nbconvert_exporter": "python",
   "pygments_lexer": "ipython3",
   "version": "3.9.12"
  }
 },
 "nbformat": 4,
 "nbformat_minor": 5
}
