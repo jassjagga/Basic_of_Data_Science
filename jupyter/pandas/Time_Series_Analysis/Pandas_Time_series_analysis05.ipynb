{
 "cells": [
  {
   "cell_type": "markdown",
   "id": "fb5b5f01",
   "metadata": {},
   "source": [
    "# Period and PeriodIndex"
   ]
  },
  {
   "cell_type": "code",
   "execution_count": 2,
   "id": "b38c0531",
   "metadata": {},
   "outputs": [
    {
     "data": {
      "text/plain": [
       "Period('2021', 'A-DEC')"
      ]
     },
     "execution_count": 2,
     "metadata": {},
     "output_type": "execute_result"
    }
   ],
   "source": [
    "import pandas as pd\n",
    "\n",
    "y=pd.Period(\"2021\")\n",
    "y"
   ]
  },
  {
   "cell_type": "code",
   "execution_count": 4,
   "id": "ea30addb",
   "metadata": {},
   "outputs": [
    {
     "data": {
      "text/plain": [
       "['__add__',\n",
       " '__array_priority__',\n",
       " '__class__',\n",
       " '__delattr__',\n",
       " '__dict__',\n",
       " '__dir__',\n",
       " '__doc__',\n",
       " '__eq__',\n",
       " '__format__',\n",
       " '__ge__',\n",
       " '__getattribute__',\n",
       " '__gt__',\n",
       " '__hash__',\n",
       " '__init__',\n",
       " '__init_subclass__',\n",
       " '__le__',\n",
       " '__lt__',\n",
       " '__module__',\n",
       " '__ne__',\n",
       " '__new__',\n",
       " '__pyx_vtable__',\n",
       " '__radd__',\n",
       " '__reduce__',\n",
       " '__reduce_ex__',\n",
       " '__repr__',\n",
       " '__rsub__',\n",
       " '__setattr__',\n",
       " '__setstate__',\n",
       " '__sizeof__',\n",
       " '__str__',\n",
       " '__sub__',\n",
       " '__subclasshook__',\n",
       " '__weakref__',\n",
       " '_add_offset',\n",
       " '_add_timedeltalike_scalar',\n",
       " '_dtype',\n",
       " '_from_ordinal',\n",
       " '_get_to_timestamp_base',\n",
       " '_maybe_convert_freq',\n",
       " '_require_matching_freq',\n",
       " 'asfreq',\n",
       " 'day',\n",
       " 'day_of_week',\n",
       " 'day_of_year',\n",
       " 'dayofweek',\n",
       " 'dayofyear',\n",
       " 'days_in_month',\n",
       " 'daysinmonth',\n",
       " 'end_time',\n",
       " 'freq',\n",
       " 'freqstr',\n",
       " 'hour',\n",
       " 'is_leap_year',\n",
       " 'minute',\n",
       " 'month',\n",
       " 'now',\n",
       " 'ordinal',\n",
       " 'quarter',\n",
       " 'qyear',\n",
       " 'second',\n",
       " 'start_time',\n",
       " 'strftime',\n",
       " 'to_timestamp',\n",
       " 'week',\n",
       " 'weekday',\n",
       " 'weekofyear',\n",
       " 'year']"
      ]
     },
     "execution_count": 4,
     "metadata": {},
     "output_type": "execute_result"
    }
   ],
   "source": [
    "dir(y)"
   ]
  },
  {
   "cell_type": "code",
   "execution_count": 5,
   "id": "88476ae9",
   "metadata": {},
   "outputs": [
    {
     "data": {
      "text/plain": [
       "Timestamp('2021-01-01 00:00:00')"
      ]
     },
     "execution_count": 5,
     "metadata": {},
     "output_type": "execute_result"
    }
   ],
   "source": [
    "y.start_time"
   ]
  },
  {
   "cell_type": "code",
   "execution_count": 6,
   "id": "8f0df9b6",
   "metadata": {},
   "outputs": [
    {
     "data": {
      "text/plain": [
       "Timestamp('2021-12-31 23:59:59.999999999')"
      ]
     },
     "execution_count": 6,
     "metadata": {},
     "output_type": "execute_result"
    }
   ],
   "source": [
    "y.end_time"
   ]
  },
  {
   "cell_type": "code",
   "execution_count": 7,
   "id": "62116810",
   "metadata": {},
   "outputs": [],
   "source": [
    "m=pd.Period(\"2021-1\",freq=\"M\")"
   ]
  },
  {
   "cell_type": "code",
   "execution_count": 8,
   "id": "bf59f1cb",
   "metadata": {},
   "outputs": [
    {
     "data": {
      "text/plain": [
       "Timestamp('2021-01-01 00:00:00')"
      ]
     },
     "execution_count": 8,
     "metadata": {},
     "output_type": "execute_result"
    }
   ],
   "source": [
    "m.start_time"
   ]
  },
  {
   "cell_type": "code",
   "execution_count": 9,
   "id": "295d9a26",
   "metadata": {},
   "outputs": [
    {
     "data": {
      "text/plain": [
       "Timestamp('2021-01-31 23:59:59.999999999')"
      ]
     },
     "execution_count": 9,
     "metadata": {},
     "output_type": "execute_result"
    }
   ],
   "source": [
    "m.end_time"
   ]
  },
  {
   "cell_type": "code",
   "execution_count": 10,
   "id": "8a888c66",
   "metadata": {},
   "outputs": [
    {
     "data": {
      "text/plain": [
       "Period('2021-02', 'M')"
      ]
     },
     "execution_count": 10,
     "metadata": {},
     "output_type": "execute_result"
    }
   ],
   "source": [
    "m+1"
   ]
  },
  {
   "cell_type": "code",
   "execution_count": 11,
   "id": "94c56cef",
   "metadata": {},
   "outputs": [
    {
     "data": {
      "text/plain": [
       "Period('2022-01', 'M')"
      ]
     },
     "execution_count": 11,
     "metadata": {},
     "output_type": "execute_result"
    }
   ],
   "source": [
    "m+12"
   ]
  },
  {
   "cell_type": "code",
   "execution_count": 12,
   "id": "4397e467",
   "metadata": {},
   "outputs": [],
   "source": [
    "d=pd.Period(\"2021-02-28\",freq=\"D\")"
   ]
  },
  {
   "cell_type": "code",
   "execution_count": 13,
   "id": "c4c67b9d",
   "metadata": {},
   "outputs": [
    {
     "data": {
      "text/plain": [
       "Period('2021-02-28', 'D')"
      ]
     },
     "execution_count": 13,
     "metadata": {},
     "output_type": "execute_result"
    }
   ],
   "source": [
    "d"
   ]
  },
  {
   "cell_type": "code",
   "execution_count": 14,
   "id": "b67edf73",
   "metadata": {},
   "outputs": [
    {
     "data": {
      "text/plain": [
       "Period('2021-03-01', 'D')"
      ]
     },
     "execution_count": 14,
     "metadata": {},
     "output_type": "execute_result"
    }
   ],
   "source": [
    "d+1"
   ]
  },
  {
   "cell_type": "code",
   "execution_count": 15,
   "id": "d2e5991e",
   "metadata": {},
   "outputs": [],
   "source": [
    "h=pd.Period(\"2021-02-28 23:00:00\",freq=\"H\")"
   ]
  },
  {
   "cell_type": "code",
   "execution_count": 16,
   "id": "9214eb3f",
   "metadata": {},
   "outputs": [
    {
     "data": {
      "text/plain": [
       "Period('2021-02-28 23:00', 'H')"
      ]
     },
     "execution_count": 16,
     "metadata": {},
     "output_type": "execute_result"
    }
   ],
   "source": [
    "h"
   ]
  },
  {
   "cell_type": "code",
   "execution_count": 18,
   "id": "d43ab079",
   "metadata": {},
   "outputs": [
    {
     "data": {
      "text/plain": [
       "Timestamp('2021-02-28 23:00:00')"
      ]
     },
     "execution_count": 18,
     "metadata": {},
     "output_type": "execute_result"
    }
   ],
   "source": [
    "h.start_time\n"
   ]
  },
  {
   "cell_type": "code",
   "execution_count": 19,
   "id": "82bd7436",
   "metadata": {},
   "outputs": [
    {
     "data": {
      "text/plain": [
       "Timestamp('2021-02-28 23:59:59.999999999')"
      ]
     },
     "execution_count": 19,
     "metadata": {},
     "output_type": "execute_result"
    }
   ],
   "source": [
    "h.end_time"
   ]
  },
  {
   "cell_type": "code",
   "execution_count": 20,
   "id": "9067dc2f",
   "metadata": {},
   "outputs": [
    {
     "data": {
      "text/plain": [
       "Period('2021-03-01 00:00', 'H')"
      ]
     },
     "execution_count": 20,
     "metadata": {},
     "output_type": "execute_result"
    }
   ],
   "source": [
    "h+1"
   ]
  },
  {
   "cell_type": "code",
   "execution_count": 21,
   "id": "dd11b744",
   "metadata": {},
   "outputs": [
    {
     "data": {
      "text/plain": [
       "Period('2021-02-28 17:00', 'H')"
      ]
     },
     "execution_count": 21,
     "metadata": {},
     "output_type": "execute_result"
    }
   ],
   "source": [
    "h-6"
   ]
  },
  {
   "cell_type": "code",
   "execution_count": 22,
   "id": "0be1777f",
   "metadata": {},
   "outputs": [
    {
     "data": {
      "text/plain": [
       "Period('2021-03-01 04:00', 'H')"
      ]
     },
     "execution_count": 22,
     "metadata": {},
     "output_type": "execute_result"
    }
   ],
   "source": [
    "h+pd.offsets.Hour(5)"
   ]
  },
  {
   "cell_type": "code",
   "execution_count": 24,
   "id": "c4fe8774",
   "metadata": {},
   "outputs": [
    {
     "data": {
      "text/plain": [
       "Period('2021Q1', 'Q-DEC')"
      ]
     },
     "execution_count": 24,
     "metadata": {},
     "output_type": "execute_result"
    }
   ],
   "source": [
    "q=pd.Period(\"2021Q1\")\n",
    "q"
   ]
  },
  {
   "cell_type": "code",
   "execution_count": 25,
   "id": "16300f36",
   "metadata": {},
   "outputs": [
    {
     "data": {
      "text/plain": [
       "Period('2021Q2', 'Q-DEC')"
      ]
     },
     "execution_count": 25,
     "metadata": {},
     "output_type": "execute_result"
    }
   ],
   "source": [
    "q+1"
   ]
  },
  {
   "cell_type": "code",
   "execution_count": 30,
   "id": "f64c002a",
   "metadata": {},
   "outputs": [
    {
     "data": {
      "text/plain": [
       "Period('2021Q1', 'Q-JAN')"
      ]
     },
     "execution_count": 30,
     "metadata": {},
     "output_type": "execute_result"
    }
   ],
   "source": [
    "q=pd.Period(\"2021Q1\",freq=\"Q-JAN\")\n",
    "q"
   ]
  },
  {
   "cell_type": "code",
   "execution_count": 27,
   "id": "ff0c913d",
   "metadata": {},
   "outputs": [
    {
     "data": {
      "text/plain": [
       "Timestamp('2020-02-01 00:00:00')"
      ]
     },
     "execution_count": 27,
     "metadata": {},
     "output_type": "execute_result"
    }
   ],
   "source": [
    "q.start_time"
   ]
  },
  {
   "cell_type": "code",
   "execution_count": 28,
   "id": "1a515b18",
   "metadata": {},
   "outputs": [
    {
     "data": {
      "text/plain": [
       "Timestamp('2020-04-30 23:59:59.999999999')"
      ]
     },
     "execution_count": 28,
     "metadata": {},
     "output_type": "execute_result"
    }
   ],
   "source": [
    "q.end_time"
   ]
  },
  {
   "cell_type": "code",
   "execution_count": 29,
   "id": "3a28218b",
   "metadata": {},
   "outputs": [
    {
     "data": {
      "text/plain": [
       "Period('2020-04', 'M')"
      ]
     },
     "execution_count": 29,
     "metadata": {},
     "output_type": "execute_result"
    }
   ],
   "source": [
    "q.asfreq(\"M\",how=\"end\")"
   ]
  },
  {
   "cell_type": "code",
   "execution_count": 31,
   "id": "2e921d23",
   "metadata": {},
   "outputs": [
    {
     "data": {
      "text/plain": [
       "Period('2022Q2', 'Q-JAN')"
      ]
     },
     "execution_count": 31,
     "metadata": {},
     "output_type": "execute_result"
    }
   ],
   "source": [
    "q2=pd.Period(\"2022Q2\",freq=\"Q-JAN\")\n",
    "q2"
   ]
  },
  {
   "cell_type": "code",
   "execution_count": 32,
   "id": "c1cac60e",
   "metadata": {},
   "outputs": [
    {
     "data": {
      "text/plain": [
       "<5 * QuarterEnds: startingMonth=1>"
      ]
     },
     "execution_count": 32,
     "metadata": {},
     "output_type": "execute_result"
    }
   ],
   "source": [
    "q2-q"
   ]
  },
  {
   "cell_type": "markdown",
   "id": "748de4de",
   "metadata": {},
   "source": [
    "## PeriodIndex"
   ]
  },
  {
   "cell_type": "code",
   "execution_count": 4,
   "id": "c08a41b7",
   "metadata": {},
   "outputs": [
    {
     "data": {
      "text/plain": [
       "PeriodIndex(['2015Q1', '2015Q2', '2015Q3', '2015Q4', '2016Q1', '2016Q2',\n",
       "             '2016Q3', '2016Q4', '2017Q1', '2017Q2', '2017Q3', '2017Q4',\n",
       "             '2018Q1', '2018Q2', '2018Q3', '2018Q4', '2019Q1', '2019Q2',\n",
       "             '2019Q3', '2019Q4', '2020Q1', '2020Q2', '2020Q3', '2020Q4',\n",
       "             '2021Q1', '2021Q2', '2021Q3', '2021Q4', '2022Q1'],\n",
       "            dtype='period[Q-DEC]')"
      ]
     },
     "execution_count": 4,
     "metadata": {},
     "output_type": "execute_result"
    }
   ],
   "source": [
    "idx= pd.period_range(\"2015\",\"2022\",freq=\"Q\")\n",
    "idx"
   ]
  },
  {
   "cell_type": "code",
   "execution_count": 6,
   "id": "990b9159",
   "metadata": {},
   "outputs": [
    {
     "data": {
      "text/plain": [
       "PeriodIndex(['2015Q4', '2016Q1', '2016Q2', '2016Q3', '2016Q4', '2017Q1',\n",
       "             '2017Q2', '2017Q3', '2017Q4', '2018Q1', '2018Q2', '2018Q3',\n",
       "             '2018Q4', '2019Q1', '2019Q2', '2019Q3', '2019Q4', '2020Q1',\n",
       "             '2020Q2', '2020Q3', '2020Q4', '2021Q1', '2021Q2', '2021Q3',\n",
       "             '2021Q4', '2022Q1', '2022Q2', '2022Q3', '2022Q4'],\n",
       "            dtype='period[Q-JAN]')"
      ]
     },
     "execution_count": 6,
     "metadata": {},
     "output_type": "execute_result"
    }
   ],
   "source": [
    "idx= pd.period_range(\"2015\",\"2022\",freq=\"Q-JAN\")\n",
    "idx"
   ]
  },
  {
   "cell_type": "code",
   "execution_count": 7,
   "id": "886c1006",
   "metadata": {},
   "outputs": [
    {
     "data": {
      "text/plain": [
       "Timestamp('2014-11-01 00:00:00')"
      ]
     },
     "execution_count": 7,
     "metadata": {},
     "output_type": "execute_result"
    }
   ],
   "source": [
    "idx[0].start_time"
   ]
  },
  {
   "cell_type": "code",
   "execution_count": 8,
   "id": "5d1cb1fc",
   "metadata": {},
   "outputs": [
    {
     "data": {
      "text/plain": [
       "Timestamp('2015-01-31 23:59:59.999999999')"
      ]
     },
     "execution_count": 8,
     "metadata": {},
     "output_type": "execute_result"
    }
   ],
   "source": [
    "idx[0].end_time"
   ]
  },
  {
   "cell_type": "code",
   "execution_count": 9,
   "id": "f9c55c7d",
   "metadata": {},
   "outputs": [
    {
     "data": {
      "text/plain": [
       "PeriodIndex(['2015Q4', '2016Q1', '2016Q2', '2016Q3', '2016Q4', '2017Q1',\n",
       "             '2017Q2', '2017Q3', '2017Q4', '2018Q1'],\n",
       "            dtype='period[Q-JAN]')"
      ]
     },
     "execution_count": 9,
     "metadata": {},
     "output_type": "execute_result"
    }
   ],
   "source": [
    "idx= pd.period_range(\"2015\",periods=10,freq=\"Q-JAN\")\n",
    "idx"
   ]
  },
  {
   "cell_type": "code",
   "execution_count": 11,
   "id": "a8209583",
   "metadata": {},
   "outputs": [
    {
     "data": {
      "text/plain": [
       "2015Q4   -2.106072\n",
       "2016Q1    1.043773\n",
       "2016Q2    0.414510\n",
       "2016Q3   -1.290427\n",
       "2016Q4   -0.250775\n",
       "2017Q1    1.401136\n",
       "2017Q2    1.262685\n",
       "2017Q3   -0.049504\n",
       "2017Q4   -0.784833\n",
       "2018Q1   -2.959177\n",
       "Freq: Q-JAN, dtype: float64"
      ]
     },
     "execution_count": 11,
     "metadata": {},
     "output_type": "execute_result"
    }
   ],
   "source": [
    "import numpy as np \n",
    "ps= pd.Series(np.random.randn(len(idx)),idx)\n",
    "ps"
   ]
  },
  {
   "cell_type": "code",
   "execution_count": 12,
   "id": "1b9ec2b8",
   "metadata": {},
   "outputs": [
    {
     "data": {
      "text/plain": [
       "PeriodIndex(['2015Q4', '2016Q1', '2016Q2', '2016Q3', '2016Q4', '2017Q1',\n",
       "             '2017Q2', '2017Q3', '2017Q4', '2018Q1'],\n",
       "            dtype='period[Q-JAN]')"
      ]
     },
     "execution_count": 12,
     "metadata": {},
     "output_type": "execute_result"
    }
   ],
   "source": [
    "ps.index"
   ]
  },
  {
   "cell_type": "code",
   "execution_count": 13,
   "id": "3c0da2f8",
   "metadata": {},
   "outputs": [
    {
     "data": {
      "text/plain": [
       "2017Q4   -0.784833\n",
       "2018Q1   -2.959177\n",
       "Freq: Q-JAN, dtype: float64"
      ]
     },
     "execution_count": 13,
     "metadata": {},
     "output_type": "execute_result"
    }
   ],
   "source": [
    "ps['2017']"
   ]
  },
  {
   "cell_type": "code",
   "execution_count": 14,
   "id": "b011c92e",
   "metadata": {},
   "outputs": [
    {
     "data": {
      "text/plain": [
       "2015Q4   -2.106072\n",
       "2016Q1    1.043773\n",
       "2016Q2    0.414510\n",
       "2016Q3   -1.290427\n",
       "2016Q4   -0.250775\n",
       "2017Q1    1.401136\n",
       "2017Q2    1.262685\n",
       "2017Q3   -0.049504\n",
       "2017Q4   -0.784833\n",
       "2018Q1   -2.959177\n",
       "Freq: Q-JAN, dtype: float64"
      ]
     },
     "execution_count": 14,
     "metadata": {},
     "output_type": "execute_result"
    }
   ],
   "source": [
    "ps[\"2015\":\"2017\"]"
   ]
  },
  {
   "cell_type": "code",
   "execution_count": 16,
   "id": "36018f25",
   "metadata": {},
   "outputs": [
    {
     "data": {
      "text/plain": [
       "2014-11-01   -2.106072\n",
       "2015-02-01    1.043773\n",
       "2015-05-01    0.414510\n",
       "2015-08-01   -1.290427\n",
       "2015-11-01   -0.250775\n",
       "2016-02-01    1.401136\n",
       "2016-05-01    1.262685\n",
       "2016-08-01   -0.049504\n",
       "2016-11-01   -0.784833\n",
       "2017-02-01   -2.959177\n",
       "Freq: QS-NOV, dtype: float64"
      ]
     },
     "execution_count": 16,
     "metadata": {},
     "output_type": "execute_result"
    }
   ],
   "source": [
    "pst=ps.to_timestamp()\n",
    "pst"
   ]
  },
  {
   "cell_type": "code",
   "execution_count": 17,
   "id": "4e18400d",
   "metadata": {},
   "outputs": [
    {
     "data": {
      "text/plain": [
       "DatetimeIndex(['2014-11-01', '2015-02-01', '2015-05-01', '2015-08-01',\n",
       "               '2015-11-01', '2016-02-01', '2016-05-01', '2016-08-01',\n",
       "               '2016-11-01', '2017-02-01'],\n",
       "              dtype='datetime64[ns]', freq='QS-NOV')"
      ]
     },
     "execution_count": 17,
     "metadata": {},
     "output_type": "execute_result"
    }
   ],
   "source": [
    "pst.index"
   ]
  },
  {
   "cell_type": "code",
   "execution_count": 18,
   "id": "7ce1c262",
   "metadata": {},
   "outputs": [
    {
     "data": {
      "text/plain": [
       "2014Q4   -2.106072\n",
       "2015Q1    1.043773\n",
       "2015Q2    0.414510\n",
       "2015Q3   -1.290427\n",
       "2015Q4   -0.250775\n",
       "2016Q1    1.401136\n",
       "2016Q2    1.262685\n",
       "2016Q3   -0.049504\n",
       "2016Q4   -0.784833\n",
       "2017Q1   -2.959177\n",
       "Freq: Q-DEC, dtype: float64"
      ]
     },
     "execution_count": 18,
     "metadata": {},
     "output_type": "execute_result"
    }
   ],
   "source": [
    "pst.to_period()\n"
   ]
  },
  {
   "cell_type": "code",
   "execution_count": 19,
   "id": "48866bc1",
   "metadata": {},
   "outputs": [
    {
     "data": {
      "text/html": [
       "<div>\n",
       "<style scoped>\n",
       "    .dataframe tbody tr th:only-of-type {\n",
       "        vertical-align: middle;\n",
       "    }\n",
       "\n",
       "    .dataframe tbody tr th {\n",
       "        vertical-align: top;\n",
       "    }\n",
       "\n",
       "    .dataframe thead th {\n",
       "        text-align: right;\n",
       "    }\n",
       "</style>\n",
       "<table border=\"1\" class=\"dataframe\">\n",
       "  <thead>\n",
       "    <tr style=\"text-align: right;\">\n",
       "      <th></th>\n",
       "      <th>Line Item</th>\n",
       "      <th>2017Q1</th>\n",
       "      <th>2017Q2</th>\n",
       "      <th>2017Q3</th>\n",
       "      <th>2017Q4</th>\n",
       "      <th>2018Q1</th>\n",
       "    </tr>\n",
       "  </thead>\n",
       "  <tbody>\n",
       "    <tr>\n",
       "      <th>0</th>\n",
       "      <td>Revenue</td>\n",
       "      <td>115904</td>\n",
       "      <td>120854</td>\n",
       "      <td>118179</td>\n",
       "      <td>130936</td>\n",
       "      <td>117542</td>\n",
       "    </tr>\n",
       "    <tr>\n",
       "      <th>1</th>\n",
       "      <td>Expenses</td>\n",
       "      <td>86544</td>\n",
       "      <td>89485</td>\n",
       "      <td>87484</td>\n",
       "      <td>97743</td>\n",
       "      <td>87688</td>\n",
       "    </tr>\n",
       "    <tr>\n",
       "      <th>2</th>\n",
       "      <td>Profit</td>\n",
       "      <td>29360</td>\n",
       "      <td>31369</td>\n",
       "      <td>30695</td>\n",
       "      <td>33193</td>\n",
       "      <td>29854</td>\n",
       "    </tr>\n",
       "  </tbody>\n",
       "</table>\n",
       "</div>"
      ],
      "text/plain": [
       "  Line Item  2017Q1  2017Q2  2017Q3  2017Q4  2018Q1\n",
       "0   Revenue  115904  120854  118179  130936  117542\n",
       "1  Expenses   86544   89485   87484   97743   87688\n",
       "2    Profit   29360   31369   30695   33193   29854"
      ]
     },
     "execution_count": 19,
     "metadata": {},
     "output_type": "execute_result"
    }
   ],
   "source": [
    "ndf=pd.read_csv(\"WMT.csv\")\n",
    "ndf"
   ]
  },
  {
   "cell_type": "code",
   "execution_count": 21,
   "id": "bd7f61bc",
   "metadata": {},
   "outputs": [
    {
     "data": {
      "text/html": [
       "<div>\n",
       "<style scoped>\n",
       "    .dataframe tbody tr th:only-of-type {\n",
       "        vertical-align: middle;\n",
       "    }\n",
       "\n",
       "    .dataframe tbody tr th {\n",
       "        vertical-align: top;\n",
       "    }\n",
       "\n",
       "    .dataframe thead th {\n",
       "        text-align: right;\n",
       "    }\n",
       "</style>\n",
       "<table border=\"1\" class=\"dataframe\">\n",
       "  <thead>\n",
       "    <tr style=\"text-align: right;\">\n",
       "      <th></th>\n",
       "      <th>2017Q1</th>\n",
       "      <th>2017Q2</th>\n",
       "      <th>2017Q3</th>\n",
       "      <th>2017Q4</th>\n",
       "      <th>2018Q1</th>\n",
       "    </tr>\n",
       "    <tr>\n",
       "      <th>Line Item</th>\n",
       "      <th></th>\n",
       "      <th></th>\n",
       "      <th></th>\n",
       "      <th></th>\n",
       "      <th></th>\n",
       "    </tr>\n",
       "  </thead>\n",
       "  <tbody>\n",
       "    <tr>\n",
       "      <th>Revenue</th>\n",
       "      <td>115904</td>\n",
       "      <td>120854</td>\n",
       "      <td>118179</td>\n",
       "      <td>130936</td>\n",
       "      <td>117542</td>\n",
       "    </tr>\n",
       "    <tr>\n",
       "      <th>Expenses</th>\n",
       "      <td>86544</td>\n",
       "      <td>89485</td>\n",
       "      <td>87484</td>\n",
       "      <td>97743</td>\n",
       "      <td>87688</td>\n",
       "    </tr>\n",
       "    <tr>\n",
       "      <th>Profit</th>\n",
       "      <td>29360</td>\n",
       "      <td>31369</td>\n",
       "      <td>30695</td>\n",
       "      <td>33193</td>\n",
       "      <td>29854</td>\n",
       "    </tr>\n",
       "  </tbody>\n",
       "</table>\n",
       "</div>"
      ],
      "text/plain": [
       "           2017Q1  2017Q2  2017Q3  2017Q4  2018Q1\n",
       "Line Item                                        \n",
       "Revenue    115904  120854  118179  130936  117542\n",
       "Expenses    86544   89485   87484   97743   87688\n",
       "Profit      29360   31369   30695   33193   29854"
      ]
     },
     "execution_count": 21,
     "metadata": {},
     "output_type": "execute_result"
    }
   ],
   "source": [
    "ndf.set_index(\"Line Item\",inplace=True)\n",
    "ndf"
   ]
  },
  {
   "cell_type": "code",
   "execution_count": 23,
   "id": "bd63714c",
   "metadata": {},
   "outputs": [
    {
     "data": {
      "text/html": [
       "<div>\n",
       "<style scoped>\n",
       "    .dataframe tbody tr th:only-of-type {\n",
       "        vertical-align: middle;\n",
       "    }\n",
       "\n",
       "    .dataframe tbody tr th {\n",
       "        vertical-align: top;\n",
       "    }\n",
       "\n",
       "    .dataframe thead th {\n",
       "        text-align: right;\n",
       "    }\n",
       "</style>\n",
       "<table border=\"1\" class=\"dataframe\">\n",
       "  <thead>\n",
       "    <tr style=\"text-align: right;\">\n",
       "      <th>Line Item</th>\n",
       "      <th>Revenue</th>\n",
       "      <th>Expenses</th>\n",
       "      <th>Profit</th>\n",
       "    </tr>\n",
       "  </thead>\n",
       "  <tbody>\n",
       "    <tr>\n",
       "      <th>2017Q1</th>\n",
       "      <td>115904</td>\n",
       "      <td>86544</td>\n",
       "      <td>29360</td>\n",
       "    </tr>\n",
       "    <tr>\n",
       "      <th>2017Q2</th>\n",
       "      <td>120854</td>\n",
       "      <td>89485</td>\n",
       "      <td>31369</td>\n",
       "    </tr>\n",
       "    <tr>\n",
       "      <th>2017Q3</th>\n",
       "      <td>118179</td>\n",
       "      <td>87484</td>\n",
       "      <td>30695</td>\n",
       "    </tr>\n",
       "    <tr>\n",
       "      <th>2017Q4</th>\n",
       "      <td>130936</td>\n",
       "      <td>97743</td>\n",
       "      <td>33193</td>\n",
       "    </tr>\n",
       "    <tr>\n",
       "      <th>2018Q1</th>\n",
       "      <td>117542</td>\n",
       "      <td>87688</td>\n",
       "      <td>29854</td>\n",
       "    </tr>\n",
       "  </tbody>\n",
       "</table>\n",
       "</div>"
      ],
      "text/plain": [
       "Line Item  Revenue  Expenses  Profit\n",
       "2017Q1      115904     86544   29360\n",
       "2017Q2      120854     89485   31369\n",
       "2017Q3      118179     87484   30695\n",
       "2017Q4      130936     97743   33193\n",
       "2018Q1      117542     87688   29854"
      ]
     },
     "execution_count": 23,
     "metadata": {},
     "output_type": "execute_result"
    }
   ],
   "source": [
    "ndf =ndf.T\n",
    "ndf"
   ]
  },
  {
   "cell_type": "code",
   "execution_count": 25,
   "id": "181d22d5",
   "metadata": {},
   "outputs": [
    {
     "data": {
      "text/plain": [
       "Index(['2017Q1', '2017Q2', '2017Q3', '2017Q4', '2018Q1'], dtype='object')"
      ]
     },
     "execution_count": 25,
     "metadata": {},
     "output_type": "execute_result"
    }
   ],
   "source": [
    "ndf.index"
   ]
  },
  {
   "cell_type": "code",
   "execution_count": 28,
   "id": "0b336ca8",
   "metadata": {},
   "outputs": [
    {
     "data": {
      "text/plain": [
       "PeriodIndex(['2017Q1', '2017Q2', '2017Q3', '2017Q4', '2018Q1'], dtype='period[Q-JAN]')"
      ]
     },
     "execution_count": 28,
     "metadata": {},
     "output_type": "execute_result"
    }
   ],
   "source": [
    "ndf.index =pd.PeriodIndex(ndf.index, freq=\"Q-JAN\")\n",
    "ndf.index"
   ]
  },
  {
   "cell_type": "code",
   "execution_count": 30,
   "id": "6585ed63",
   "metadata": {},
   "outputs": [
    {
     "data": {
      "text/html": [
       "<div>\n",
       "<style scoped>\n",
       "    .dataframe tbody tr th:only-of-type {\n",
       "        vertical-align: middle;\n",
       "    }\n",
       "\n",
       "    .dataframe tbody tr th {\n",
       "        vertical-align: top;\n",
       "    }\n",
       "\n",
       "    .dataframe thead th {\n",
       "        text-align: right;\n",
       "    }\n",
       "</style>\n",
       "<table border=\"1\" class=\"dataframe\">\n",
       "  <thead>\n",
       "    <tr style=\"text-align: right;\">\n",
       "      <th>Line Item</th>\n",
       "      <th>Revenue</th>\n",
       "      <th>Expenses</th>\n",
       "      <th>Profit</th>\n",
       "      <th>start date</th>\n",
       "    </tr>\n",
       "  </thead>\n",
       "  <tbody>\n",
       "    <tr>\n",
       "      <th>2017Q1</th>\n",
       "      <td>115904</td>\n",
       "      <td>86544</td>\n",
       "      <td>29360</td>\n",
       "      <td>2016-02-01</td>\n",
       "    </tr>\n",
       "    <tr>\n",
       "      <th>2017Q2</th>\n",
       "      <td>120854</td>\n",
       "      <td>89485</td>\n",
       "      <td>31369</td>\n",
       "      <td>2016-05-01</td>\n",
       "    </tr>\n",
       "    <tr>\n",
       "      <th>2017Q3</th>\n",
       "      <td>118179</td>\n",
       "      <td>87484</td>\n",
       "      <td>30695</td>\n",
       "      <td>2016-08-01</td>\n",
       "    </tr>\n",
       "    <tr>\n",
       "      <th>2017Q4</th>\n",
       "      <td>130936</td>\n",
       "      <td>97743</td>\n",
       "      <td>33193</td>\n",
       "      <td>2016-11-01</td>\n",
       "    </tr>\n",
       "    <tr>\n",
       "      <th>2018Q1</th>\n",
       "      <td>117542</td>\n",
       "      <td>87688</td>\n",
       "      <td>29854</td>\n",
       "      <td>2017-02-01</td>\n",
       "    </tr>\n",
       "  </tbody>\n",
       "</table>\n",
       "</div>"
      ],
      "text/plain": [
       "Line Item  Revenue  Expenses  Profit start date\n",
       "2017Q1      115904     86544   29360 2016-02-01\n",
       "2017Q2      120854     89485   31369 2016-05-01\n",
       "2017Q3      118179     87484   30695 2016-08-01\n",
       "2017Q4      130936     97743   33193 2016-11-01\n",
       "2018Q1      117542     87688   29854 2017-02-01"
      ]
     },
     "execution_count": 30,
     "metadata": {},
     "output_type": "execute_result"
    }
   ],
   "source": [
    "ndf[\"start date\"]=ndf.index.map(lambda x:x.start_time)\n",
    "ndf"
   ]
  },
  {
   "cell_type": "code",
   "execution_count": 32,
   "id": "18124693",
   "metadata": {},
   "outputs": [
    {
     "data": {
      "text/html": [
       "<div>\n",
       "<style scoped>\n",
       "    .dataframe tbody tr th:only-of-type {\n",
       "        vertical-align: middle;\n",
       "    }\n",
       "\n",
       "    .dataframe tbody tr th {\n",
       "        vertical-align: top;\n",
       "    }\n",
       "\n",
       "    .dataframe thead th {\n",
       "        text-align: right;\n",
       "    }\n",
       "</style>\n",
       "<table border=\"1\" class=\"dataframe\">\n",
       "  <thead>\n",
       "    <tr style=\"text-align: right;\">\n",
       "      <th>Line Item</th>\n",
       "      <th>Revenue</th>\n",
       "      <th>Expenses</th>\n",
       "      <th>Profit</th>\n",
       "      <th>start date</th>\n",
       "      <th>end date</th>\n",
       "    </tr>\n",
       "  </thead>\n",
       "  <tbody>\n",
       "    <tr>\n",
       "      <th>2017Q1</th>\n",
       "      <td>115904</td>\n",
       "      <td>86544</td>\n",
       "      <td>29360</td>\n",
       "      <td>2016-02-01</td>\n",
       "      <td>2016-04-30 23:59:59.999999999</td>\n",
       "    </tr>\n",
       "    <tr>\n",
       "      <th>2017Q2</th>\n",
       "      <td>120854</td>\n",
       "      <td>89485</td>\n",
       "      <td>31369</td>\n",
       "      <td>2016-05-01</td>\n",
       "      <td>2016-07-31 23:59:59.999999999</td>\n",
       "    </tr>\n",
       "    <tr>\n",
       "      <th>2017Q3</th>\n",
       "      <td>118179</td>\n",
       "      <td>87484</td>\n",
       "      <td>30695</td>\n",
       "      <td>2016-08-01</td>\n",
       "      <td>2016-10-31 23:59:59.999999999</td>\n",
       "    </tr>\n",
       "    <tr>\n",
       "      <th>2017Q4</th>\n",
       "      <td>130936</td>\n",
       "      <td>97743</td>\n",
       "      <td>33193</td>\n",
       "      <td>2016-11-01</td>\n",
       "      <td>2017-01-31 23:59:59.999999999</td>\n",
       "    </tr>\n",
       "    <tr>\n",
       "      <th>2018Q1</th>\n",
       "      <td>117542</td>\n",
       "      <td>87688</td>\n",
       "      <td>29854</td>\n",
       "      <td>2017-02-01</td>\n",
       "      <td>2017-04-30 23:59:59.999999999</td>\n",
       "    </tr>\n",
       "  </tbody>\n",
       "</table>\n",
       "</div>"
      ],
      "text/plain": [
       "Line Item  Revenue  Expenses  Profit start date                      end date\n",
       "2017Q1      115904     86544   29360 2016-02-01 2016-04-30 23:59:59.999999999\n",
       "2017Q2      120854     89485   31369 2016-05-01 2016-07-31 23:59:59.999999999\n",
       "2017Q3      118179     87484   30695 2016-08-01 2016-10-31 23:59:59.999999999\n",
       "2017Q4      130936     97743   33193 2016-11-01 2017-01-31 23:59:59.999999999\n",
       "2018Q1      117542     87688   29854 2017-02-01 2017-04-30 23:59:59.999999999"
      ]
     },
     "execution_count": 32,
     "metadata": {},
     "output_type": "execute_result"
    }
   ],
   "source": [
    "ndf[\"end date\"]=ndf.index.map(lambda x: x.end_time)\n",
    "ndf"
   ]
  },
  {
   "cell_type": "markdown",
   "id": "85889c95",
   "metadata": {},
   "source": [
    "## What is Lambda Function also called anonymous function a function with no name "
   ]
  },
  {
   "cell_type": "code",
   "execution_count": 33,
   "id": "e8b1512f",
   "metadata": {},
   "outputs": [],
   "source": [
    "def addition(a,b):\n",
    "    return a+b"
   ]
  },
  {
   "cell_type": "code",
   "execution_count": 34,
   "id": "a1c62e1b",
   "metadata": {},
   "outputs": [
    {
     "data": {
      "text/plain": [
       "9"
      ]
     },
     "execution_count": 34,
     "metadata": {},
     "output_type": "execute_result"
    }
   ],
   "source": [
    "addition(4,5)"
   ]
  },
  {
   "cell_type": "code",
   "execution_count": 35,
   "id": "3b021897",
   "metadata": {},
   "outputs": [],
   "source": [
    "addition= lambda a,b:a+b"
   ]
  },
  {
   "cell_type": "code",
   "execution_count": 36,
   "id": "4356f947",
   "metadata": {},
   "outputs": [
    {
     "data": {
      "text/plain": [
       "26"
      ]
     },
     "execution_count": 36,
     "metadata": {},
     "output_type": "execute_result"
    }
   ],
   "source": [
    "addition(12,14)"
   ]
  },
  {
   "cell_type": "code",
   "execution_count": 37,
   "id": "96540161",
   "metadata": {},
   "outputs": [],
   "source": [
    "even =lambda a:a%2==0"
   ]
  },
  {
   "cell_type": "code",
   "execution_count": 38,
   "id": "b631edd4",
   "metadata": {},
   "outputs": [
    {
     "data": {
      "text/plain": [
       "True"
      ]
     },
     "execution_count": 38,
     "metadata": {},
     "output_type": "execute_result"
    }
   ],
   "source": [
    "even(10)"
   ]
  },
  {
   "cell_type": "code",
   "execution_count": 39,
   "id": "82b38a7c",
   "metadata": {},
   "outputs": [
    {
     "data": {
      "text/plain": [
       "False"
      ]
     },
     "execution_count": 39,
     "metadata": {},
     "output_type": "execute_result"
    }
   ],
   "source": [
    "even(11)"
   ]
  },
  {
   "cell_type": "code",
   "execution_count": 40,
   "id": "684c45c9",
   "metadata": {},
   "outputs": [],
   "source": [
    "def addition(x,y,z):\n",
    "    return x+y+x"
   ]
  },
  {
   "cell_type": "code",
   "execution_count": 41,
   "id": "4a4faa3d",
   "metadata": {},
   "outputs": [
    {
     "data": {
      "text/plain": [
       "7"
      ]
     },
     "execution_count": 41,
     "metadata": {},
     "output_type": "execute_result"
    }
   ],
   "source": [
    "addition(2,3,4)"
   ]
  },
  {
   "cell_type": "code",
   "execution_count": 42,
   "id": "dee48c73",
   "metadata": {},
   "outputs": [],
   "source": [
    "addition= lambda x,y,z:x+y+z"
   ]
  },
  {
   "cell_type": "code",
   "execution_count": 43,
   "id": "ad8c20aa",
   "metadata": {},
   "outputs": [
    {
     "data": {
      "text/plain": [
       "60"
      ]
     },
     "execution_count": 43,
     "metadata": {},
     "output_type": "execute_result"
    }
   ],
   "source": [
    "addition(10,20,30)"
   ]
  },
  {
   "cell_type": "markdown",
   "id": "3f224164",
   "metadata": {},
   "source": [
    "## Map function in python "
   ]
  },
  {
   "cell_type": "code",
   "execution_count": 47,
   "id": "2f2cc506",
   "metadata": {},
   "outputs": [],
   "source": [
    "def even_or_odd(num):\n",
    "    if num%2==0:\n",
    "        return \"The number {} is Even\".format(num)\n",
    "    else:\n",
    "        return \"The number {} is Odd\".format(num)"
   ]
  },
  {
   "cell_type": "code",
   "execution_count": 48,
   "id": "7fccb57d",
   "metadata": {},
   "outputs": [
    {
     "data": {
      "text/plain": [
       "'The number 10 is Even'"
      ]
     },
     "execution_count": 48,
     "metadata": {},
     "output_type": "execute_result"
    }
   ],
   "source": [
    "even_or_odd(10)"
   ]
  },
  {
   "cell_type": "code",
   "execution_count": 49,
   "id": "cde1dd4a",
   "metadata": {},
   "outputs": [
    {
     "data": {
      "text/plain": [
       "'The number 21 is Odd'"
      ]
     },
     "execution_count": 49,
     "metadata": {},
     "output_type": "execute_result"
    }
   ],
   "source": [
    "even_or_odd(21)"
   ]
  },
  {
   "cell_type": "code",
   "execution_count": 50,
   "id": "75b35630",
   "metadata": {},
   "outputs": [],
   "source": [
    "lst= [1,2,3,4,5,6,7,8,9,10,11,67,89,99]"
   ]
  },
  {
   "cell_type": "code",
   "execution_count": 52,
   "id": "157ddc3a",
   "metadata": {},
   "outputs": [
    {
     "data": {
      "text/plain": [
       "['The number 1 is Odd',\n",
       " 'The number 2 is Even',\n",
       " 'The number 3 is Odd',\n",
       " 'The number 4 is Even',\n",
       " 'The number 5 is Odd',\n",
       " 'The number 6 is Even',\n",
       " 'The number 7 is Odd',\n",
       " 'The number 8 is Even',\n",
       " 'The number 9 is Odd',\n",
       " 'The number 10 is Even',\n",
       " 'The number 11 is Odd',\n",
       " 'The number 67 is Odd',\n",
       " 'The number 89 is Odd',\n",
       " 'The number 99 is Odd']"
      ]
     },
     "execution_count": 52,
     "metadata": {},
     "output_type": "execute_result"
    }
   ],
   "source": [
    "list(map(even_or_odd,lst))"
   ]
  },
  {
   "cell_type": "code",
   "execution_count": null,
   "id": "35243279",
   "metadata": {},
   "outputs": [],
   "source": []
  }
 ],
 "metadata": {
  "kernelspec": {
   "display_name": "Python 3 (ipykernel)",
   "language": "python",
   "name": "python3"
  },
  "language_info": {
   "codemirror_mode": {
    "name": "ipython",
    "version": 3
   },
   "file_extension": ".py",
   "mimetype": "text/x-python",
   "name": "python",
   "nbconvert_exporter": "python",
   "pygments_lexer": "ipython3",
   "version": "3.9.12"
  }
 },
 "nbformat": 4,
 "nbformat_minor": 5
}
