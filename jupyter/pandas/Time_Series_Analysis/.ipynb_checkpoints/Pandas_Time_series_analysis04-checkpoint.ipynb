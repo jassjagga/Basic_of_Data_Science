{
 "cells": [
  {
   "cell_type": "markdown",
   "id": "4d3aba03",
   "metadata": {},
   "source": [
    "### Date and time in pandas "
   ]
  },
  {
   "cell_type": "code",
   "execution_count": 1,
   "id": "9d3d51fb",
   "metadata": {},
   "outputs": [],
   "source": [
    "import pandas as pd"
   ]
  },
  {
   "cell_type": "code",
   "execution_count": 24,
   "id": "126835fc",
   "metadata": {},
   "outputs": [
    {
     "data": {
      "text/html": [
       "<div>\n",
       "<style scoped>\n",
       "    .dataframe tbody tr th:only-of-type {\n",
       "        vertical-align: middle;\n",
       "    }\n",
       "\n",
       "    .dataframe tbody tr th {\n",
       "        vertical-align: top;\n",
       "    }\n",
       "\n",
       "    .dataframe thead th {\n",
       "        text-align: right;\n",
       "    }\n",
       "</style>\n",
       "<table border=\"1\" class=\"dataframe\">\n",
       "  <thead>\n",
       "    <tr style=\"text-align: right;\">\n",
       "      <th></th>\n",
       "      <th>Date</th>\n",
       "      <th>Open</th>\n",
       "      <th>High</th>\n",
       "      <th>Low</th>\n",
       "      <th>Close</th>\n",
       "      <th>Adj Close</th>\n",
       "      <th>Volume</th>\n",
       "    </tr>\n",
       "  </thead>\n",
       "  <tbody>\n",
       "    <tr>\n",
       "      <th>0</th>\n",
       "      <td>2021-06-24</td>\n",
       "      <td>674.989990</td>\n",
       "      <td>697.619995</td>\n",
       "      <td>667.609985</td>\n",
       "      <td>679.820007</td>\n",
       "      <td>679.820007</td>\n",
       "      <td>45982400</td>\n",
       "    </tr>\n",
       "    <tr>\n",
       "      <th>1</th>\n",
       "      <td>2021-06-25</td>\n",
       "      <td>689.580017</td>\n",
       "      <td>693.809998</td>\n",
       "      <td>668.700012</td>\n",
       "      <td>671.869995</td>\n",
       "      <td>671.869995</td>\n",
       "      <td>32496700</td>\n",
       "    </tr>\n",
       "    <tr>\n",
       "      <th>2</th>\n",
       "      <td>2021-06-28</td>\n",
       "      <td>671.640015</td>\n",
       "      <td>694.700012</td>\n",
       "      <td>670.320007</td>\n",
       "      <td>688.719971</td>\n",
       "      <td>688.719971</td>\n",
       "      <td>21628200</td>\n",
       "    </tr>\n",
       "    <tr>\n",
       "      <th>3</th>\n",
       "      <td>2021-06-29</td>\n",
       "      <td>684.650024</td>\n",
       "      <td>687.510010</td>\n",
       "      <td>675.890015</td>\n",
       "      <td>680.760010</td>\n",
       "      <td>680.760010</td>\n",
       "      <td>17381300</td>\n",
       "    </tr>\n",
       "    <tr>\n",
       "      <th>4</th>\n",
       "      <td>2021-06-30</td>\n",
       "      <td>679.770020</td>\n",
       "      <td>692.809998</td>\n",
       "      <td>678.140015</td>\n",
       "      <td>679.700012</td>\n",
       "      <td>679.700012</td>\n",
       "      <td>18924900</td>\n",
       "    </tr>\n",
       "  </tbody>\n",
       "</table>\n",
       "</div>"
      ],
      "text/plain": [
       "         Date        Open        High         Low       Close   Adj Close  \\\n",
       "0  2021-06-24  674.989990  697.619995  667.609985  679.820007  679.820007   \n",
       "1  2021-06-25  689.580017  693.809998  668.700012  671.869995  671.869995   \n",
       "2  2021-06-28  671.640015  694.700012  670.320007  688.719971  688.719971   \n",
       "3  2021-06-29  684.650024  687.510010  675.890015  680.760010  680.760010   \n",
       "4  2021-06-30  679.770020  692.809998  678.140015  679.700012  679.700012   \n",
       "\n",
       "     Volume  \n",
       "0  45982400  \n",
       "1  32496700  \n",
       "2  21628200  \n",
       "3  17381300  \n",
       "4  18924900  "
      ]
     },
     "execution_count": 24,
     "metadata": {},
     "output_type": "execute_result"
    }
   ],
   "source": [
    "df = pd.read_csv(\"TSLA.csv\")\n",
    "df.head()"
   ]
  },
  {
   "cell_type": "code",
   "execution_count": 25,
   "id": "fc1b2df8",
   "metadata": {},
   "outputs": [
    {
     "data": {
      "text/plain": [
       "pandas.core.series.Series"
      ]
     },
     "execution_count": 25,
     "metadata": {},
     "output_type": "execute_result"
    }
   ],
   "source": [
    "type(df.Date)"
   ]
  },
  {
   "cell_type": "code",
   "execution_count": 29,
   "id": "6b1fc274",
   "metadata": {},
   "outputs": [
    {
     "data": {
      "text/plain": [
       "0     2021-06-24\n",
       "1     2021-06-25\n",
       "2     2021-06-28\n",
       "3     2021-06-29\n",
       "4     2021-06-30\n",
       "         ...    \n",
       "248   2022-06-17\n",
       "249   2022-06-21\n",
       "250   2022-06-22\n",
       "251   2022-06-23\n",
       "252   2022-06-24\n",
       "Name: Date, Length: 253, dtype: datetime64[ns]"
      ]
     },
     "execution_count": 29,
     "metadata": {},
     "output_type": "execute_result"
    }
   ],
   "source": [
    "pd.to_datetime(df.Date)"
   ]
  },
  {
   "cell_type": "code",
   "execution_count": 35,
   "id": "cf3c12fb",
   "metadata": {},
   "outputs": [],
   "source": [
    "dates=[\"2022-01-05 2:30:00 PM\",\"jan 5, 2022 14:30:00\",\"01/05/2022\",\"2022.01.05\",\"20220105\"]\n"
   ]
  },
  {
   "cell_type": "code",
   "execution_count": 36,
   "id": "d99d6ccd",
   "metadata": {},
   "outputs": [
    {
     "data": {
      "text/plain": [
       "DatetimeIndex(['2022-01-05 14:30:00', '2022-01-05 14:30:00',\n",
       "               '2022-01-05 00:00:00', '2022-01-05 00:00:00',\n",
       "               '2022-01-05 00:00:00'],\n",
       "              dtype='datetime64[ns]', freq=None)"
      ]
     },
     "execution_count": 36,
     "metadata": {},
     "output_type": "execute_result"
    }
   ],
   "source": [
    "pd.to_datetime(dates)"
   ]
  },
  {
   "cell_type": "code",
   "execution_count": 37,
   "id": "342a2abe",
   "metadata": {},
   "outputs": [
    {
     "data": {
      "text/plain": [
       "Timestamp('2017-01-05 00:00:00')"
      ]
     },
     "execution_count": 37,
     "metadata": {},
     "output_type": "execute_result"
    }
   ],
   "source": [
    "pd.to_datetime('5/1/2017',dayfirst=True)"
   ]
  },
  {
   "cell_type": "code",
   "execution_count": 38,
   "id": "f2aa1c6e",
   "metadata": {},
   "outputs": [
    {
     "data": {
      "text/plain": [
       "Timestamp('2017-01-05 00:00:00')"
      ]
     },
     "execution_count": 38,
     "metadata": {},
     "output_type": "execute_result"
    }
   ],
   "source": [
    "pd.to_datetime('5$1$2017',format=\"%d$%m$%Y\")"
   ]
  },
  {
   "cell_type": "code",
   "execution_count": 41,
   "id": "00bf7edb",
   "metadata": {},
   "outputs": [
    {
     "data": {
      "text/plain": [
       "Index(['2022-01-05 2:30:00 PM', 'jan 5, 2022 14:30:00', '01/05/2022',\n",
       "       '2022.01.05', '20220105', 'abc'],\n",
       "      dtype='object')"
      ]
     },
     "execution_count": 41,
     "metadata": {},
     "output_type": "execute_result"
    }
   ],
   "source": [
    "dates=[\"2022-01-05 2:30:00 PM\",\"jan 5, 2022 14:30:00\",\"01/05/2022\",\"2022.01.05\",\"20220105\",'abc']\n",
    "pd.to_datetime(dates,errors=\"ignore\")"
   ]
  },
  {
   "cell_type": "code",
   "execution_count": 42,
   "id": "67000fa3",
   "metadata": {},
   "outputs": [
    {
     "data": {
      "text/plain": [
       "DatetimeIndex(['2022-01-05 14:30:00', '2022-01-05 14:30:00',\n",
       "               '2022-01-05 00:00:00', '2022-01-05 00:00:00',\n",
       "               '2022-01-05 00:00:00',                 'NaT'],\n",
       "              dtype='datetime64[ns]', freq=None)"
      ]
     },
     "execution_count": 42,
     "metadata": {},
     "output_type": "execute_result"
    }
   ],
   "source": [
    "dates=[\"2022-01-05 2:30:00 PM\",\"jan 5, 2022 14:30:00\",\"01/05/2022\",\"2022.01.05\",\"20220105\",'abc']\n",
    "pd.to_datetime(dates,errors=\"coerce\")"
   ]
  },
  {
   "cell_type": "markdown",
   "id": "1e416bb1",
   "metadata": {},
   "source": [
    "### Epoch(unix time) is number of seconds that have passed  since Jan 1,1970 00:00:00 UTC"
   ]
  },
  {
   "cell_type": "code",
   "execution_count": 45,
   "id": "ffbd862f",
   "metadata": {},
   "outputs": [
    {
     "data": {
      "text/plain": [
       "Timestamp('2022-06-27 20:21:57')"
      ]
     },
     "execution_count": 45,
     "metadata": {},
     "output_type": "execute_result"
    }
   ],
   "source": [
    "t=1656361317\n",
    "pd.to_datetime(t,unit=\"s\")"
   ]
  },
  {
   "cell_type": "code",
   "execution_count": 47,
   "id": "633823fb",
   "metadata": {},
   "outputs": [
    {
     "data": {
      "text/plain": [
       "DatetimeIndex(['2022-06-27 20:21:57'], dtype='datetime64[ns]', freq=None)"
      ]
     },
     "execution_count": 47,
     "metadata": {},
     "output_type": "execute_result"
    }
   ],
   "source": [
    "dt= pd.to_datetime([t],unit=\"s\")\n",
    "dt"
   ]
  },
  {
   "cell_type": "code",
   "execution_count": 48,
   "id": "b0154a36",
   "metadata": {},
   "outputs": [
    {
     "data": {
      "text/plain": [
       "array([1656361317000000000], dtype=int64)"
      ]
     },
     "execution_count": 48,
     "metadata": {},
     "output_type": "execute_result"
    }
   ],
   "source": [
    "dt.view('int64')"
   ]
  },
  {
   "cell_type": "code",
   "execution_count": null,
   "id": "7f69d389",
   "metadata": {},
   "outputs": [],
   "source": []
  }
 ],
 "metadata": {
  "kernelspec": {
   "display_name": "Python 3 (ipykernel)",
   "language": "python",
   "name": "python3"
  },
  "language_info": {
   "codemirror_mode": {
    "name": "ipython",
    "version": 3
   },
   "file_extension": ".py",
   "mimetype": "text/x-python",
   "name": "python",
   "nbconvert_exporter": "python",
   "pygments_lexer": "ipython3",
   "version": "3.9.12"
  }
 },
 "nbformat": 4,
 "nbformat_minor": 5
}
