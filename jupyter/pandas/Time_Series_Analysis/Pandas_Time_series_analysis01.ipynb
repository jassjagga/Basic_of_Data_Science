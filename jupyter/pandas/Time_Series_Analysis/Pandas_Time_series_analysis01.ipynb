{
 "cells": [
  {
   "cell_type": "markdown",
   "id": "61d85ceb",
   "metadata": {},
   "source": [
    "### Time Series Analysis in pandas\n",
    "1. Datetimeindex\n",
    "2. Resampling"
   ]
  },
  {
   "cell_type": "code",
   "execution_count": 1,
   "id": "5d5cddce",
   "metadata": {},
   "outputs": [],
   "source": [
    "import pandas as pd"
   ]
  },
  {
   "cell_type": "code",
   "execution_count": 12,
   "id": "3108cb21",
   "metadata": {},
   "outputs": [
    {
     "data": {
      "text/html": [
       "<div>\n",
       "<style scoped>\n",
       "    .dataframe tbody tr th:only-of-type {\n",
       "        vertical-align: middle;\n",
       "    }\n",
       "\n",
       "    .dataframe tbody tr th {\n",
       "        vertical-align: top;\n",
       "    }\n",
       "\n",
       "    .dataframe thead th {\n",
       "        text-align: right;\n",
       "    }\n",
       "</style>\n",
       "<table border=\"1\" class=\"dataframe\">\n",
       "  <thead>\n",
       "    <tr style=\"text-align: right;\">\n",
       "      <th></th>\n",
       "      <th>Open</th>\n",
       "      <th>High</th>\n",
       "      <th>Low</th>\n",
       "      <th>Close</th>\n",
       "      <th>Adj Close</th>\n",
       "      <th>Volume</th>\n",
       "    </tr>\n",
       "    <tr>\n",
       "      <th>Date</th>\n",
       "      <th></th>\n",
       "      <th></th>\n",
       "      <th></th>\n",
       "      <th></th>\n",
       "      <th></th>\n",
       "      <th></th>\n",
       "    </tr>\n",
       "  </thead>\n",
       "  <tbody>\n",
       "    <tr>\n",
       "      <th>2021-06-24</th>\n",
       "      <td>674.989990</td>\n",
       "      <td>697.619995</td>\n",
       "      <td>667.609985</td>\n",
       "      <td>679.820007</td>\n",
       "      <td>679.820007</td>\n",
       "      <td>45982400</td>\n",
       "    </tr>\n",
       "    <tr>\n",
       "      <th>2021-06-25</th>\n",
       "      <td>689.580017</td>\n",
       "      <td>693.809998</td>\n",
       "      <td>668.700012</td>\n",
       "      <td>671.869995</td>\n",
       "      <td>671.869995</td>\n",
       "      <td>32496700</td>\n",
       "    </tr>\n",
       "    <tr>\n",
       "      <th>2021-06-28</th>\n",
       "      <td>671.640015</td>\n",
       "      <td>694.700012</td>\n",
       "      <td>670.320007</td>\n",
       "      <td>688.719971</td>\n",
       "      <td>688.719971</td>\n",
       "      <td>21628200</td>\n",
       "    </tr>\n",
       "    <tr>\n",
       "      <th>2021-06-29</th>\n",
       "      <td>684.650024</td>\n",
       "      <td>687.510010</td>\n",
       "      <td>675.890015</td>\n",
       "      <td>680.760010</td>\n",
       "      <td>680.760010</td>\n",
       "      <td>17381300</td>\n",
       "    </tr>\n",
       "    <tr>\n",
       "      <th>2021-06-30</th>\n",
       "      <td>679.770020</td>\n",
       "      <td>692.809998</td>\n",
       "      <td>678.140015</td>\n",
       "      <td>679.700012</td>\n",
       "      <td>679.700012</td>\n",
       "      <td>18924900</td>\n",
       "    </tr>\n",
       "  </tbody>\n",
       "</table>\n",
       "</div>"
      ],
      "text/plain": [
       "                  Open        High         Low       Close   Adj Close  \\\n",
       "Date                                                                     \n",
       "2021-06-24  674.989990  697.619995  667.609985  679.820007  679.820007   \n",
       "2021-06-25  689.580017  693.809998  668.700012  671.869995  671.869995   \n",
       "2021-06-28  671.640015  694.700012  670.320007  688.719971  688.719971   \n",
       "2021-06-29  684.650024  687.510010  675.890015  680.760010  680.760010   \n",
       "2021-06-30  679.770020  692.809998  678.140015  679.700012  679.700012   \n",
       "\n",
       "              Volume  \n",
       "Date                  \n",
       "2021-06-24  45982400  \n",
       "2021-06-25  32496700  \n",
       "2021-06-28  21628200  \n",
       "2021-06-29  17381300  \n",
       "2021-06-30  18924900  "
      ]
     },
     "execution_count": 12,
     "metadata": {},
     "output_type": "execute_result"
    }
   ],
   "source": [
    "df=pd.read_csv(\"TSLA.csv\",parse_dates=[\"Date\"], index_col=\"Date\")\n",
    "df.head()"
   ]
  },
  {
   "cell_type": "code",
   "execution_count": 13,
   "id": "f324f977",
   "metadata": {},
   "outputs": [],
   "source": [
    "df =df.drop(\"Adj Close\",axis=1)"
   ]
  },
  {
   "cell_type": "code",
   "execution_count": 14,
   "id": "dc0715d1",
   "metadata": {},
   "outputs": [
    {
     "data": {
      "text/html": [
       "<div>\n",
       "<style scoped>\n",
       "    .dataframe tbody tr th:only-of-type {\n",
       "        vertical-align: middle;\n",
       "    }\n",
       "\n",
       "    .dataframe tbody tr th {\n",
       "        vertical-align: top;\n",
       "    }\n",
       "\n",
       "    .dataframe thead th {\n",
       "        text-align: right;\n",
       "    }\n",
       "</style>\n",
       "<table border=\"1\" class=\"dataframe\">\n",
       "  <thead>\n",
       "    <tr style=\"text-align: right;\">\n",
       "      <th></th>\n",
       "      <th>Open</th>\n",
       "      <th>High</th>\n",
       "      <th>Low</th>\n",
       "      <th>Close</th>\n",
       "      <th>Volume</th>\n",
       "    </tr>\n",
       "    <tr>\n",
       "      <th>Date</th>\n",
       "      <th></th>\n",
       "      <th></th>\n",
       "      <th></th>\n",
       "      <th></th>\n",
       "      <th></th>\n",
       "    </tr>\n",
       "  </thead>\n",
       "  <tbody>\n",
       "    <tr>\n",
       "      <th>2021-06-24</th>\n",
       "      <td>674.989990</td>\n",
       "      <td>697.619995</td>\n",
       "      <td>667.609985</td>\n",
       "      <td>679.820007</td>\n",
       "      <td>45982400</td>\n",
       "    </tr>\n",
       "    <tr>\n",
       "      <th>2021-06-25</th>\n",
       "      <td>689.580017</td>\n",
       "      <td>693.809998</td>\n",
       "      <td>668.700012</td>\n",
       "      <td>671.869995</td>\n",
       "      <td>32496700</td>\n",
       "    </tr>\n",
       "    <tr>\n",
       "      <th>2021-06-28</th>\n",
       "      <td>671.640015</td>\n",
       "      <td>694.700012</td>\n",
       "      <td>670.320007</td>\n",
       "      <td>688.719971</td>\n",
       "      <td>21628200</td>\n",
       "    </tr>\n",
       "    <tr>\n",
       "      <th>2021-06-29</th>\n",
       "      <td>684.650024</td>\n",
       "      <td>687.510010</td>\n",
       "      <td>675.890015</td>\n",
       "      <td>680.760010</td>\n",
       "      <td>17381300</td>\n",
       "    </tr>\n",
       "    <tr>\n",
       "      <th>2021-06-30</th>\n",
       "      <td>679.770020</td>\n",
       "      <td>692.809998</td>\n",
       "      <td>678.140015</td>\n",
       "      <td>679.700012</td>\n",
       "      <td>18924900</td>\n",
       "    </tr>\n",
       "  </tbody>\n",
       "</table>\n",
       "</div>"
      ],
      "text/plain": [
       "                  Open        High         Low       Close    Volume\n",
       "Date                                                                \n",
       "2021-06-24  674.989990  697.619995  667.609985  679.820007  45982400\n",
       "2021-06-25  689.580017  693.809998  668.700012  671.869995  32496700\n",
       "2021-06-28  671.640015  694.700012  670.320007  688.719971  21628200\n",
       "2021-06-29  684.650024  687.510010  675.890015  680.760010  17381300\n",
       "2021-06-30  679.770020  692.809998  678.140015  679.700012  18924900"
      ]
     },
     "execution_count": 14,
     "metadata": {},
     "output_type": "execute_result"
    }
   ],
   "source": [
    "df.head()"
   ]
  },
  {
   "cell_type": "code",
   "execution_count": 16,
   "id": "46f17c70",
   "metadata": {},
   "outputs": [
    {
     "data": {
      "text/plain": [
       "DatetimeIndex(['2021-06-24', '2021-06-25', '2021-06-28', '2021-06-29',\n",
       "               '2021-06-30', '2021-07-01', '2021-07-02', '2021-07-06',\n",
       "               '2021-07-07', '2021-07-08',\n",
       "               ...\n",
       "               '2022-06-10', '2022-06-13', '2022-06-14', '2022-06-15',\n",
       "               '2022-06-16', '2022-06-17', '2022-06-21', '2022-06-22',\n",
       "               '2022-06-23', '2022-06-24'],\n",
       "              dtype='datetime64[ns]', name='Date', length=253, freq=None)"
      ]
     },
     "execution_count": 16,
     "metadata": {},
     "output_type": "execute_result"
    }
   ],
   "source": [
    "df.index"
   ]
  },
  {
   "cell_type": "code",
   "execution_count": 23,
   "id": "e4838a54",
   "metadata": {
    "scrolled": true
   },
   "outputs": [
    {
     "data": {
      "text/html": [
       "<div>\n",
       "<style scoped>\n",
       "    .dataframe tbody tr th:only-of-type {\n",
       "        vertical-align: middle;\n",
       "    }\n",
       "\n",
       "    .dataframe tbody tr th {\n",
       "        vertical-align: top;\n",
       "    }\n",
       "\n",
       "    .dataframe thead th {\n",
       "        text-align: right;\n",
       "    }\n",
       "</style>\n",
       "<table border=\"1\" class=\"dataframe\">\n",
       "  <thead>\n",
       "    <tr style=\"text-align: right;\">\n",
       "      <th></th>\n",
       "      <th>Open</th>\n",
       "      <th>High</th>\n",
       "      <th>Low</th>\n",
       "      <th>Close</th>\n",
       "      <th>Volume</th>\n",
       "    </tr>\n",
       "    <tr>\n",
       "      <th>Date</th>\n",
       "      <th></th>\n",
       "      <th></th>\n",
       "      <th></th>\n",
       "      <th></th>\n",
       "      <th></th>\n",
       "    </tr>\n",
       "  </thead>\n",
       "  <tbody>\n",
       "    <tr>\n",
       "      <th>2021-06-24</th>\n",
       "      <td>674.989990</td>\n",
       "      <td>697.619995</td>\n",
       "      <td>667.609985</td>\n",
       "      <td>679.820007</td>\n",
       "      <td>45982400</td>\n",
       "    </tr>\n",
       "    <tr>\n",
       "      <th>2021-06-25</th>\n",
       "      <td>689.580017</td>\n",
       "      <td>693.809998</td>\n",
       "      <td>668.700012</td>\n",
       "      <td>671.869995</td>\n",
       "      <td>32496700</td>\n",
       "    </tr>\n",
       "    <tr>\n",
       "      <th>2021-06-28</th>\n",
       "      <td>671.640015</td>\n",
       "      <td>694.700012</td>\n",
       "      <td>670.320007</td>\n",
       "      <td>688.719971</td>\n",
       "      <td>21628200</td>\n",
       "    </tr>\n",
       "    <tr>\n",
       "      <th>2021-06-29</th>\n",
       "      <td>684.650024</td>\n",
       "      <td>687.510010</td>\n",
       "      <td>675.890015</td>\n",
       "      <td>680.760010</td>\n",
       "      <td>17381300</td>\n",
       "    </tr>\n",
       "    <tr>\n",
       "      <th>2021-06-30</th>\n",
       "      <td>679.770020</td>\n",
       "      <td>692.809998</td>\n",
       "      <td>678.140015</td>\n",
       "      <td>679.700012</td>\n",
       "      <td>18924900</td>\n",
       "    </tr>\n",
       "  </tbody>\n",
       "</table>\n",
       "</div>"
      ],
      "text/plain": [
       "                  Open        High         Low       Close    Volume\n",
       "Date                                                                \n",
       "2021-06-24  674.989990  697.619995  667.609985  679.820007  45982400\n",
       "2021-06-25  689.580017  693.809998  668.700012  671.869995  32496700\n",
       "2021-06-28  671.640015  694.700012  670.320007  688.719971  21628200\n",
       "2021-06-29  684.650024  687.510010  675.890015  680.760010  17381300\n",
       "2021-06-30  679.770020  692.809998  678.140015  679.700012  18924900"
      ]
     },
     "execution_count": 23,
     "metadata": {},
     "output_type": "execute_result"
    }
   ],
   "source": [
    "df.loc[\"2021-06\"]"
   ]
  },
  {
   "cell_type": "code",
   "execution_count": 24,
   "id": "a8e84c72",
   "metadata": {},
   "outputs": [
    {
     "data": {
      "text/plain": [
       "Date\n",
       "2021-06-24    679.820007\n",
       "2021-06-25    671.869995\n",
       "2021-06-28    688.719971\n",
       "2021-06-29    680.760010\n",
       "2021-06-30    679.700012\n",
       "Name: Close, dtype: float64"
      ]
     },
     "execution_count": 24,
     "metadata": {},
     "output_type": "execute_result"
    }
   ],
   "source": [
    "df.loc[\"2021-06\"].Close"
   ]
  },
  {
   "cell_type": "code",
   "execution_count": 25,
   "id": "aeba0eaf",
   "metadata": {},
   "outputs": [
    {
     "data": {
      "text/plain": [
       "680.173999"
      ]
     },
     "execution_count": 25,
     "metadata": {},
     "output_type": "execute_result"
    }
   ],
   "source": [
    "df.loc[\"2021-06\"].Close.mean()"
   ]
  },
  {
   "cell_type": "code",
   "execution_count": 27,
   "id": "853a3c42",
   "metadata": {},
   "outputs": [
    {
     "data": {
      "text/plain": [
       "Open      6.749900e+02\n",
       "High      6.976200e+02\n",
       "Low       6.676100e+02\n",
       "Close     6.798200e+02\n",
       "Volume    4.598240e+07\n",
       "Name: 2021-06-24 00:00:00, dtype: float64"
      ]
     },
     "execution_count": 27,
     "metadata": {},
     "output_type": "execute_result"
    }
   ],
   "source": [
    "df.loc[\"2021-06-24\"]"
   ]
  },
  {
   "cell_type": "code",
   "execution_count": 28,
   "id": "2a3b8cfd",
   "metadata": {},
   "outputs": [
    {
     "data": {
      "text/html": [
       "<div>\n",
       "<style scoped>\n",
       "    .dataframe tbody tr th:only-of-type {\n",
       "        vertical-align: middle;\n",
       "    }\n",
       "\n",
       "    .dataframe tbody tr th {\n",
       "        vertical-align: top;\n",
       "    }\n",
       "\n",
       "    .dataframe thead th {\n",
       "        text-align: right;\n",
       "    }\n",
       "</style>\n",
       "<table border=\"1\" class=\"dataframe\">\n",
       "  <thead>\n",
       "    <tr style=\"text-align: right;\">\n",
       "      <th></th>\n",
       "      <th>Open</th>\n",
       "      <th>High</th>\n",
       "      <th>Low</th>\n",
       "      <th>Close</th>\n",
       "      <th>Volume</th>\n",
       "    </tr>\n",
       "    <tr>\n",
       "      <th>Date</th>\n",
       "      <th></th>\n",
       "      <th></th>\n",
       "      <th></th>\n",
       "      <th></th>\n",
       "      <th></th>\n",
       "    </tr>\n",
       "  </thead>\n",
       "  <tbody>\n",
       "    <tr>\n",
       "      <th>2021-06-24</th>\n",
       "      <td>674.989990</td>\n",
       "      <td>697.619995</td>\n",
       "      <td>667.609985</td>\n",
       "      <td>679.820007</td>\n",
       "      <td>45982400</td>\n",
       "    </tr>\n",
       "    <tr>\n",
       "      <th>2021-06-25</th>\n",
       "      <td>689.580017</td>\n",
       "      <td>693.809998</td>\n",
       "      <td>668.700012</td>\n",
       "      <td>671.869995</td>\n",
       "      <td>32496700</td>\n",
       "    </tr>\n",
       "    <tr>\n",
       "      <th>2021-06-28</th>\n",
       "      <td>671.640015</td>\n",
       "      <td>694.700012</td>\n",
       "      <td>670.320007</td>\n",
       "      <td>688.719971</td>\n",
       "      <td>21628200</td>\n",
       "    </tr>\n",
       "    <tr>\n",
       "      <th>2021-06-29</th>\n",
       "      <td>684.650024</td>\n",
       "      <td>687.510010</td>\n",
       "      <td>675.890015</td>\n",
       "      <td>680.760010</td>\n",
       "      <td>17381300</td>\n",
       "    </tr>\n",
       "    <tr>\n",
       "      <th>2021-06-30</th>\n",
       "      <td>679.770020</td>\n",
       "      <td>692.809998</td>\n",
       "      <td>678.140015</td>\n",
       "      <td>679.700012</td>\n",
       "      <td>18924900</td>\n",
       "    </tr>\n",
       "  </tbody>\n",
       "</table>\n",
       "</div>"
      ],
      "text/plain": [
       "                  Open        High         Low       Close    Volume\n",
       "Date                                                                \n",
       "2021-06-24  674.989990  697.619995  667.609985  679.820007  45982400\n",
       "2021-06-25  689.580017  693.809998  668.700012  671.869995  32496700\n",
       "2021-06-28  671.640015  694.700012  670.320007  688.719971  21628200\n",
       "2021-06-29  684.650024  687.510010  675.890015  680.760010  17381300\n",
       "2021-06-30  679.770020  692.809998  678.140015  679.700012  18924900"
      ]
     },
     "execution_count": 28,
     "metadata": {},
     "output_type": "execute_result"
    }
   ],
   "source": [
    "df.loc[\"2021-06-24\":\"2021-06-30\"]"
   ]
  },
  {
   "cell_type": "code",
   "execution_count": 29,
   "id": "f05748e3",
   "metadata": {},
   "outputs": [
    {
     "data": {
      "text/plain": [
       "Date\n",
       "2021-06-30     680.173999\n",
       "2021-07-31     659.134760\n",
       "2021-08-31     705.243172\n",
       "2021-09-30     753.952381\n",
       "2021-10-31     878.349048\n",
       "2021-11-30    1120.662383\n",
       "2021-12-31    1018.889990\n",
       "2022-01-31    1010.168497\n",
       "2022-02-28     878.884737\n",
       "2022-03-31     914.379554\n",
       "2022-04-30     997.387500\n",
       "2022-05-31     765.670000\n",
       "2022-06-30     703.058235\n",
       "Freq: M, Name: Close, dtype: float64"
      ]
     },
     "execution_count": 29,
     "metadata": {},
     "output_type": "execute_result"
    }
   ],
   "source": [
    "df.Close.resample('M').mean()"
   ]
  },
  {
   "cell_type": "code",
   "execution_count": 32,
   "id": "06d37ef1",
   "metadata": {},
   "outputs": [
    {
     "data": {
      "text/plain": [
       "<AxesSubplot:xlabel='Date'>"
      ]
     },
     "execution_count": 32,
     "metadata": {},
     "output_type": "execute_result"
    },
    {
     "data": {
      "image/png": "[encoded data removed]",
      "text/plain": [
       "<Figure size 432x288 with 1 Axes>"
      ]
     },
     "metadata": {
      "needs_background": "light"
     },
     "output_type": "display_data"
    }
   ],
   "source": [
    "%matplotlib inline\n",
    "df.Close.resample('W').mean().plot()   #frequency wise we can select like W=weekly, M=Monthly etc "
   ]
  },
  {
   "cell_type": "code",
   "execution_count": 33,
   "id": "14df7871",
   "metadata": {},
   "outputs": [
    {
     "data": {
      "text/plain": [
       "<AxesSubplot:xlabel='Date'>"
      ]
     },
     "execution_count": 33,
     "metadata": {},
     "output_type": "execute_result"
    },
    {
     "data": {
      "image/png": "[encoded data removed]",
      "text/plain": [
       "<Figure size 432x288 with 1 Axes>"
      ]
     },
     "metadata": {
      "needs_background": "light"
     },
     "output_type": "display_data"
    }
   ],
   "source": [
    "df.Close.resample('Q').mean().plot()"
   ]
  },
  {
   "cell_type": "code",
   "execution_count": 35,
   "id": "6f35c313",
   "metadata": {},
   "outputs": [
    {
     "data": {
      "text/plain": [
       "<AxesSubplot:xlabel='Date'>"
      ]
     },
     "execution_count": 35,
     "metadata": {},
     "output_type": "execute_result"
    },
    {
     "data": {
      "image/png": "[encoded data removed]",
      "text/plain": [
       "<Figure size 432x288 with 1 Axes>"
      ]
     },
     "metadata": {
      "needs_background": "light"
     },
     "output_type": "display_data"
    }
   ],
   "source": [
    "df.Close.resample('M').mean().plot(kind=\"bar\")"
   ]
  },
  {
   "cell_type": "markdown",
   "id": "b76bf364",
   "metadata": {},
   "source": []
  }
 ],
 "metadata": {
  "kernelspec": {
   "display_name": "Python 3 (ipykernel)",
   "language": "python",
   "name": "python3"
  },
  "language_info": {
   "codemirror_mode": {
    "name": "ipython",
    "version": 3
   },
   "file_extension": ".py",
   "mimetype": "text/x-python",
   "name": "python",
   "nbconvert_exporter": "python",
   "pygments_lexer": "ipython3",
   "version": "3.9.12"
  }
 },
 "nbformat": 4,
 "nbformat_minor": 5
}
